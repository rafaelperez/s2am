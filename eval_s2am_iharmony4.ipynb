{
 "cells": [
  {
   "cell_type": "code",
   "execution_count": null,
   "metadata": {},
   "outputs": [
    {
     "name": "stdout",
     "output_type": "stream",
     "text": [
      "total Dataset of HCOCO is :  4283\n",
      "0\n",
      "100\n",
      "200\n",
      "300\n",
      "400\n",
      "500\n",
      "600\n",
      "700\n",
      "800\n",
      "900\n",
      "1000\n",
      "1100\n",
      "1200\n",
      "1300\n",
      "1400\n",
      "1500\n",
      "1600\n",
      "1700\n",
      "1800\n",
      "1900\n",
      "2000\n",
      "2100\n",
      "2200\n",
      "2300\n",
      "2400\n",
      "2500\n",
      "2600\n",
      "2700\n"
     ]
    }
   ],
   "source": [
    "import os, sys, torch,random\n",
    "\n",
    "import numpy as np\n",
    "from matplotlib import pyplot as plt\n",
    "\n",
    "from scripts.utils.imutils import im_to_numpy\n",
    "import scripts.models as models\n",
    "import scripts.datasets as datasets\n",
    "import torchvision\n",
    "\n",
    "from skimage.measure import compare_mse as mse\n",
    "from skimage.measure import compare_psnr as psnr\n",
    "from tqdm import tqdm\n",
    "\n",
    "%matplotlib inline\n",
    "\n",
    "class objectview(object):\n",
    "    def __init__(self, *args, **kwargs):\n",
    "        d = dict(*args, **kwargs)\n",
    "        self.__dict__ = d\n",
    "\n",
    "method = '../checkpoint/normal_rasc_HCOCO_res_s2am_HCOCO_rascv2'\n",
    "dataset_name=  method.split('_')[-2]\n",
    "dataroot = '../../../Datasets/Harmonization/'\n",
    "\n",
    "data_config  = objectview({'input_size':256,\n",
    "                            'limited_dataset':0,\n",
    "                            'normalized_input':False,\n",
    "                            'data_augumentation':False,\n",
    "                            'base_dir':dataroot,\n",
    "                            'data':dataset_name})\n",
    "\n",
    "val_loader = torch.utils.data.DataLoader(datasets.BIH('val',config=data_config,sample=[],gan_norm=False),\n",
    "                                                     batch_size=1, shuffle=False,\n",
    "                                                     num_workers=0, pin_memory=False)\n",
    "\n",
    "model = models.__dict__[method.split('_')[-1]]().cuda()\n",
    "model.load_state_dict(torch.load('%s/%s'%(method,'/model_best.pth.tar'))['state_dict'])\n",
    "model.eval()\n",
    "\n",
    "mse_scores,psnr_scores = [],[]\n",
    "        \n",
    "with torch.no_grad():\n",
    "    for i, batches in enumerate(val_loader):\n",
    "        \n",
    "        if i% 100 ==0:\n",
    "            print(i)\n",
    "        \n",
    "        inputs = batches['image'].cuda()\n",
    "        target = batches['target'].cuda()\n",
    "        mask = batches['mask'].cuda()\n",
    "            \n",
    "        outputs = model(torch.cat([inputs,mask],dim=1))\n",
    "        \n",
    "        if 'res' in method:\n",
    "            outputs = outputs + inputs\n",
    "        \n",
    "        outputs = inputs * (1-mask) + outputs * mask    \n",
    "            \n",
    "        output = im_to_numpy(torch.clamp(outputs[0]*255,min=0.0,max=255.0)).astype(np.uint8)\n",
    "        target = im_to_numpy(torch.clamp(batches['target'][0]*255,min=0.0,max=255.0)).astype(np.uint8)\n",
    "\n",
    "        mse_score = mse(output,target)\n",
    "        psnr_score = psnr(target,output,data_range=output.max() - output.min())\n",
    "        mse_scores.append(mse_score)\n",
    "        psnr_scores.append(psnr_score)\n",
    "                \n",
    "print(np.mean(mse_scores), np.mean(psnr_scores))"
   ]
  },
  {
   "cell_type": "code",
   "execution_count": 2,
   "metadata": {},
   "outputs": [
    {
     "name": "stdout",
     "output_type": "stream",
     "text": [
      "tensor(1., device='cuda:0') tensor(0., device='cuda:0')\n"
     ]
    }
   ],
   "source": []
  },
  {
   "cell_type": "code",
   "execution_count": null,
   "metadata": {},
   "outputs": [],
   "source": []
  }
 ],
 "metadata": {
  "kernelspec": {
   "name": "python3",
   "display_name": "Python 3.6.12 64-bit ('py36': conda)",
   "metadata": {
    "interpreter": {
     "hash": "a7f082546601a79217241c226355ce1cab25d62fdadcee797f699a6bc394437f"
    }
   }
  },
  "language_info": {
   "codemirror_mode": {
    "name": "ipython",
    "version": 3
   },
   "file_extension": ".py",
   "mimetype": "text/x-python",
   "name": "python",
   "nbconvert_exporter": "python",
   "pygments_lexer": "ipython3",
   "version": "3.6.12-final"
  }
 },
 "nbformat": 4,
 "nbformat_minor": 4
}